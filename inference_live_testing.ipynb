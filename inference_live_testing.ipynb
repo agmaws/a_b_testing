{
 "cells": [
  {
   "cell_type": "markdown",
   "id": "1c18e5aa",
   "metadata": {},
   "source": [
    "## Endpoint A/B Testing Live Evaluation tests"
   ]
  },
  {
   "cell_type": "code",
   "execution_count": null,
   "id": "3da12f5e",
   "metadata": {},
   "outputs": [],
   "source": [
    "%%time\n",
    "%matplotlib inline\n",
    "from datetime import datetime, timedelta\n",
    "import time\n",
    "import os\n",
    "import boto3\n",
    "import re\n",
    "import json\n",
    "from sagemaker import get_execution_role, session\n",
    "from sagemaker.s3 import S3Downloader, S3Uploader\n",
    "\n",
    "region = boto3.Session().region_name\n",
    "role = get_execution_role()\n",
    "sm_session = session.Session(boto3.Session())\n",
    "sm = boto3.Session().client(\"sagemaker\")\n",
    "sm_runtime = boto3.Session().client(\"sagemaker-runtime\")\n",
    "\n",
    "# You can use a different bucket, but make sure the role you chose for this notebook\n",
    "# has the s3:PutObject permissions. This is the bucket into which the model artifacts will be uploaded\n",
    "bucket = sm_session.default_bucket()\n",
    "prefix = \"sagemaker/DEMO-VariantTargeting\""
   ]
  },
  {
   "cell_type": "markdown",
   "id": "4dce725a",
   "metadata": {},
   "source": [
    "### Run Inference test against endpoint"
   ]
  },
  {
   "cell_type": "code",
   "execution_count": null,
   "id": "174cd8cf",
   "metadata": {},
   "outputs": [],
   "source": [
    "endpoint_name = 'DEMO-xgb-churn-pred-2022-07-23-03-13-03'\n",
    "\n",
    "with open(\"test_data/test_sample_tail_input_cols.csv\", \"r\") as f:\n",
    "    buffer = f.read()\n",
    "\n",
    "buflist = buffer.split('\\n')\n",
    "    \n",
    "for row in buflist:\n",
    "    print(\".\", end=\"\", flush=True)\n",
    "    payload = row.rstrip(\"\\n\")\n",
    "    if payload:\n",
    "        sm_runtime.invoke_endpoint(EndpointName=endpoint_name, ContentType=\"text/csv\", Body=payload)\n",
    "    time.sleep(0.5)"
   ]
  },
  {
   "cell_type": "markdown",
   "id": "633b7b31",
   "metadata": {},
   "source": [
    "## Test to show endpoint switching based on weights"
   ]
  },
  {
   "cell_type": "code",
   "execution_count": null,
   "id": "c75b5ac2",
   "metadata": {},
   "outputs": [],
   "source": [
    "test = buflist[3]"
   ]
  },
  {
   "cell_type": "code",
   "execution_count": null,
   "id": "631941bd",
   "metadata": {},
   "outputs": [],
   "source": [
    "for x in range(0,10):\n",
    "    op = sm_runtime.invoke_endpoint(EndpointName=endpoint_name, ContentType=\"text/csv\", Body=test)\n",
    "    print(op['Body'].read().decode())\n",
    "    "
   ]
  },
  {
   "cell_type": "markdown",
   "id": "864a2bf3",
   "metadata": {},
   "source": [
    "## Test to show inference performance while updating endpoints "
   ]
  },
  {
   "cell_type": "code",
   "execution_count": null,
   "id": "b708d2fb",
   "metadata": {},
   "outputs": [],
   "source": [
    "import time\n",
    "\n",
    "while True:\n",
    "    start = time.time()\n",
    "    for x in range(0,10):\n",
    "        start = time.time()\n",
    "        op = sm_runtime.invoke_endpoint(EndpointName=endpoint_name, ContentType=\"text/csv\", Body=test)\n",
    "    end = time.time()\n",
    "    print(end - start, end='\\r', flush=True)\n",
    "    time.sleep(5)"
   ]
  },
  {
   "cell_type": "code",
   "execution_count": null,
   "id": "1abbbca0",
   "metadata": {},
   "outputs": [],
   "source": []
  }
 ],
 "metadata": {
  "kernelspec": {
   "display_name": "conda_python3",
   "language": "python",
   "name": "conda_python3"
  },
  "language_info": {
   "codemirror_mode": {
    "name": "ipython",
    "version": 3
   },
   "file_extension": ".py",
   "mimetype": "text/x-python",
   "name": "python",
   "nbconvert_exporter": "python",
   "pygments_lexer": "ipython3",
   "version": "3.8.12"
  }
 },
 "nbformat": 4,
 "nbformat_minor": 5
}
